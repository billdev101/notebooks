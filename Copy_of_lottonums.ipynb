{
  "nbformat": 4,
  "nbformat_minor": 0,
  "metadata": {
    "colab": {
      "provenance": [],
      "authorship_tag": "ABX9TyMr0hByW56ONbFf2Sr4iNWV",
      "include_colab_link": true
    },
    "kernelspec": {
      "name": "python3",
      "display_name": "Python 3"
    },
    "language_info": {
      "name": "python"
    }
  },
  "cells": [
    {
      "cell_type": "markdown",
      "metadata": {
        "id": "view-in-github",
        "colab_type": "text"
      },
      "source": [
        "<a href=\"https://colab.research.google.com/github/billdev101/notebooks/blob/master/Copy_of_lottonums.ipynb\" target=\"_parent\"><img src=\"https://colab.research.google.com/assets/colab-badge.svg\" alt=\"Open In Colab\"/></a>"
      ]
    },
    {
      "cell_type": "code",
      "execution_count": null,
      "metadata": {
        "colab": {
          "base_uri": "https://localhost:8080/"
        },
        "id": "cdvaeNPhnHyG",
        "outputId": "61692295-5ac7-462c-94b7-65244a91ecc8"
      },
      "outputs": [
        {
          "output_type": "stream",
          "name": "stdout",
          "text": [
            "Power Ball 5 are  [10, 12, 55, 65, 67]\n",
            "Power Ball is  [3]\n",
            "----i =  0\n",
            "Power Ball 5 are  [68, 14, 7, 3, 25]\n",
            "Power Ball is  [10]\n",
            "Mega Millions 5 are  [30, 55, 34, 37, 18]\n",
            "Mega Ball is  [22]\n",
            "----i =  1\n",
            "Power Ball 5 are  [42, 48, 39, 58, 32]\n",
            "Power Ball is  [11]\n",
            "Mega Millions 5 are  [3, 51, 61, 53, 42]\n",
            "Mega Ball is  [19]\n",
            "----i =  2\n",
            "Power Ball 5 are  [62, 12, 4, 19, 31]\n",
            "Power Ball is  [8]\n",
            "Mega Millions 5 are  [39, 52, 37, 27, 29]\n",
            "Mega Ball is  [8]\n",
            "----i =  3\n",
            "Power Ball 5 are  [7, 62, 52, 13, 27]\n",
            "Power Ball is  [12]\n",
            "Mega Millions 5 are  [23, 49, 4, 22, 17]\n",
            "Mega Ball is  [6]\n",
            "----i =  4\n",
            "Power Ball 5 are  [64, 61, 56, 19, 29]\n",
            "Power Ball is  [20]\n",
            "Mega Millions 5 are  [28, 16, 20, 56, 29]\n",
            "Mega Ball is  [1]\n",
            "----i =  5\n",
            "Power Ball 5 are  [26, 54, 27, 22, 30]\n",
            "Power Ball is  [16]\n",
            "Mega Millions 5 are  [7, 63, 31, 44, 10]\n",
            "Mega Ball is  [23]\n",
            "----i =  6\n",
            "Power Ball 5 are  [33, 11, 45, 35, 47]\n",
            "Power Ball is  [25]\n",
            "Mega Millions 5 are  [52, 1, 25, 49, 10]\n",
            "Mega Ball is  [7]\n",
            "----i =  7\n",
            "Power Ball 5 are  [52, 46, 7, 25, 16]\n",
            "Power Ball is  [10]\n",
            "Mega Millions 5 are  [13, 35, 30, 6, 9]\n",
            "Mega Ball is  [22]\n",
            "----i =  8\n",
            "Power Ball 5 are  [36, 25, 4, 41, 27]\n",
            "Power Ball is  [23]\n",
            "Mega Millions 5 are  [19, 22, 35, 67, 61]\n",
            "Mega Ball is  [18]\n",
            "----i =  9\n",
            "Power Ball 5 are  [58, 11, 16, 60, 55]\n",
            "Power Ball is  [24]\n",
            "Mega Millions 5 are  [33, 23, 67, 3, 49]\n",
            "Mega Ball is  [7]\n"
          ]
        }
      ],
      "source": [
        "import random\n",
        "pbwiner=[10,12,55,65,67]\n",
        "pball=[3]\n",
        "print (\"Power Ball 5 are \" , pbwiner)\n",
        "print (\"Power Ball is \" , pball)\n",
        "for i in range (10):\n",
        "    print(\"----i = \", i)\n",
        "    pballs=random.sample(range (1,69),5)\n",
        "    pball=random.sample(range (1,26),1)\n",
        "    print (\"Power Ball 5 are \" , pballs)\n",
        "    print (\"Power Ball is \" , pball)\n",
        "    megams= random.sample(range (1,70),5)\n",
        "    mball= random.sample(range (1,25),1)\n",
        "    print (\"Mega Millions 5 are \" , megams)\n",
        "    print (\"Mega Ball is \" , mball)"
      ]
    }
  ]
}